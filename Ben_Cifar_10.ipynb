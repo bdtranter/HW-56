{
  "nbformat": 4,
  "nbformat_minor": 0,
  "metadata": {
    "colab": {
      "provenance": [],
      "gpuType": "T4",
      "authorship_tag": "ABX9TyN2v6jMUoatg14j+wIqUKYf",
      "include_colab_link": true
    },
    "kernelspec": {
      "name": "python3",
      "display_name": "Python 3"
    },
    "language_info": {
      "name": "python"
    },
    "accelerator": "GPU"
  },
  "cells": [
    {
      "cell_type": "markdown",
      "metadata": {
        "id": "view-in-github",
        "colab_type": "text"
      },
      "source": [
        "<a href=\"https://colab.research.google.com/github/bdtranter/HW-56/blob/main/Ben_Cifar_10.ipynb\" target=\"_parent\"><img src=\"https://colab.research.google.com/assets/colab-badge.svg\" alt=\"Open In Colab\"/></a>"
      ]
    },
    {
      "cell_type": "code",
      "execution_count": 1,
      "metadata": {
        "id": "lPSD1UlBaVPF"
      },
      "outputs": [],
      "source": [
        "import torch\n",
        "import torch.nn as nn\n",
        "import torch.optim as optim\n",
        "import torchvision.transforms as transforms\n",
        "import torchvision.datasets as datasets\n",
        "import matplotlib.pyplot as plt\n",
        "import numpy as np"
      ]
    },
    {
      "cell_type": "code",
      "source": [
        "# Define hyperparameters\n",
        "input_size = 32 * 32 * 3  # CIFAR-10 images are 32x32 with 3 color channels\n",
        "hidden_size = 256  # Number of neurons in hidden layer\n",
        "num_classes = 10  # CIFAR-10 has 10 classes\n",
        "learning_rate = 0.001\n",
        "num_epochs = 10\n",
        "batch_size = 64"
      ],
      "metadata": {
        "id": "q58-PEoeaYDk"
      },
      "execution_count": null,
      "outputs": []
    },
    {
      "cell_type": "markdown",
      "source": [
        "Project To-DO\n",
        "-Implement Manual FCNN and Relu- Done\n"
      ],
      "metadata": {
        "id": "bUxUtbNyse8_"
      }
    },
    {
      "cell_type": "code",
      "source": [
        "def get_data_loaders():\n",
        "    transform = transforms.Compose([\n",
        "        transforms.ToTensor(),\n",
        "        transforms.Normalize((0.5,), (0.5,))\n",
        "    ])\n",
        "    train_dataset = datasets.CIFAR10(root='./data', train=True, transform=transform, download=True)\n",
        "    test_dataset = datasets.CIFAR10(root='./data', train=False, transform=transform, download=True)\n",
        "    train_loader = torch.utils.data.DataLoader(dataset=train_dataset, batch_size=batch_size, shuffle=True)\n",
        "    test_loader = torch.utils.data.DataLoader(dataset=test_dataset, batch_size=batch_size, shuffle=False)\n",
        "    return train_loader, test_loader"
      ],
      "metadata": {
        "id": "NF4Y3h8TabRa"
      },
      "execution_count": null,
      "outputs": []
    },
    {
      "cell_type": "code",
      "source": [
        "class FullyConnectedNN:\n",
        "    def __init__(self, input_size, hidden_size, num_classes):\n",
        "        # Manually initializing weights and biases\n",
        "        self.fc1_weight = torch.randn(hidden_size, input_size) * 0.01\n",
        "        self.fc1_bias = torch.zeros(hidden_size)\n",
        "        self.fc2_weight = torch.randn(num_classes, hidden_size) * 0.01\n",
        "        self.fc2_bias = torch.zeros(num_classes)\n",
        "\n",
        "    def relu(self, x):\n",
        "        return (x > 0).float() * x  # Manually implemented ReLU\n",
        "\n",
        "    def forward(self, x):\n",
        "        x = x.view(x.size(0), -1)  # Flatten input\n",
        "        x = torch.matmul(x, self.fc1_weight.T) + self.fc1_bias  # First linear layer\n",
        "        x = self.relu(x)  # ReLU activation\n",
        "        x = torch.matmul(x, self.fc2_weight.T) + self.fc2_bias  # Second linear layer (logits)\n",
        "        return x  # No softmax, raw logits are returned"
      ],
      "metadata": {
        "id": "mmTt-AA-a63O"
      },
      "execution_count": null,
      "outputs": []
    },
    {
      "cell_type": "code",
      "source": [
        "############################################\n",
        "#         Training Function (Manual)       #\n",
        "############################################\n",
        "def train_model(model, train_loader, criterion, device, lr=1e-3):\n",
        "    train_loss = 0.0\n",
        "    correct = 0\n",
        "    total = 0\n",
        "\n",
        "    for images, labels in train_loader:\n",
        "        images, labels = images.to(device), labels.to(device)\n",
        "\n",
        "        # ------------------------------------------------------\n",
        "        # 1) MANUAL FORWARD PASS (instead of model.forward(images))\n",
        "        # ------------------------------------------------------\n",
        "        # Flatten: (N, 3, 32, 32) => (N, 3072)\n",
        "        x = images.view(images.size(0), -1)\n",
        "\n",
        "        # First linear layer: x @ W^T + b\n",
        "        x = torch.matmul(x, model.fc1_weight.T) + model.fc1_bias\n",
        "        # ReLU activation\n",
        "        x = (x > 0).float() * x\n",
        "\n",
        "        # Second linear layer\n",
        "        outputs = torch.matmul(x, model.fc2_weight.T) + model.fc2_bias\n",
        "\n",
        "        # ------------------------------------------------------\n",
        "        # 2) Compute Loss\n",
        "        # ------------------------------------------------------\n",
        "        loss = criterion(outputs, labels)\n",
        "\n",
        "        # ------------------------------------------------------\n",
        "        # 3) Zero Gradients & Backprop\n",
        "        # ------------------------------------------------------\n",
        "        if model.fc1_weight.grad is not None:\n",
        "            model.fc1_weight.grad.zero_()\n",
        "            model.fc1_bias.grad.zero_()\n",
        "            model.fc2_weight.grad.zero_()\n",
        "            model.fc2_bias.grad.zero_()\n",
        "\n",
        "        loss.backward()\n",
        "\n",
        "        # ------------------------------------------------------\n",
        "        # 4) Manual Gradient Descent Step\n",
        "        # ------------------------------------------------------\n",
        "        with torch.no_grad():\n",
        "            model.fc1_weight -= lr * model.fc1_weight.grad\n",
        "            model.fc1_bias   -= lr * model.fc1_bias.grad\n",
        "            model.fc2_weight -= lr * model.fc2_weight.grad\n",
        "            model.fc2_bias   -= lr * model.fc2_bias.grad\n",
        "\n",
        "        # ------------------------------------------------------\n",
        "        # 5) Track Statistics\n",
        "        # ------------------------------------------------------\n",
        "        train_loss += loss.item()\n",
        "        _, predicted = outputs.max(dim=1)\n",
        "        total += labels.size(0)\n",
        "        correct += predicted.eq(labels).sum().item()\n",
        "\n",
        "    avg_loss = train_loss / (total // batch_size)\n",
        "    accuracy = 100.0 * correct / total\n",
        "    return avg_loss, accuracy\n",
        "\n"
      ],
      "metadata": {
        "id": "gy-h8WWF2sCg"
      },
      "execution_count": null,
      "outputs": []
    },
    {
      "cell_type": "code",
      "source": [
        "############################################\n",
        "#        Evaluation Function (Manual)      #\n",
        "############################################\n",
        "def evaluate_model(model, test_loader, criterion, device):\n",
        "    test_loss = 0.0\n",
        "    correct = 0\n",
        "    total = 0\n",
        "\n",
        "    with torch.no_grad():\n",
        "        for images, labels in test_loader:\n",
        "            images, labels = images.to(device), labels.to(device)\n",
        "\n",
        "            # -------------------------------\n",
        "            # 1) MANUAL FORWARD PASS\n",
        "            # -------------------------------\n",
        "            x = images.view(images.size(0), -1)\n",
        "            x = torch.matmul(x, model.fc1_weight.T) + model.fc1_bias\n",
        "            x = (x > 0).float() * x  # ReLU\n",
        "            outputs = torch.matmul(x, model.fc2_weight.T) + model.fc2_bias\n",
        "\n",
        "            # -------------------------------\n",
        "            # 2) Compute Loss\n",
        "            # -------------------------------\n",
        "            loss = criterion(outputs, labels)\n",
        "\n",
        "            # -------------------------------\n",
        "            # 3) Track Statistics\n",
        "            # -------------------------------\n",
        "            test_loss += loss.item()\n",
        "            _, predicted = outputs.max(dim=1)\n",
        "            total += labels.size(0)\n",
        "            correct += predicted.eq(labels).sum().item()\n",
        "\n",
        "    avg_loss = test_loss / (total // batch_size)\n",
        "    accuracy = 100.0 * correct / total\n",
        "    return avg_loss, accuracy\n"
      ],
      "metadata": {
        "id": "7yqE0x-HbBQ8"
      },
      "execution_count": null,
      "outputs": []
    },
    {
      "cell_type": "code",
      "source": [
        "# Main execution\n",
        "device = torch.device(\"cuda\" if torch.cuda.is_available() else \"cpu\")\n",
        "train_loader, test_loader = get_data_loaders()\n",
        "model = FullyConnectedNN(input_size, hidden_size, num_classes)\n",
        "criterion = torch.nn.CrossEntropyLoss()\n",
        "optimizer = optim.Adam([model.fc1_weight, model.fc1_bias, model.fc2_weight, model.fc2_bias], lr=learning_rate)\n",
        "\n",
        "train_losses, test_losses = [], []\n",
        "train_accuracies, test_accuracies = [], []\n",
        "\n",
        "for epoch in range(num_epochs):\n",
        "    train_loss, train_acc = train_model(model, train_loader, criterion, optimizer, device)\n",
        "    test_loss, test_acc = evaluate_model(model, test_loader, criterion, device)\n",
        "\n",
        "    train_losses.append(train_loss)\n",
        "    test_losses.append(test_loss)\n",
        "    train_accuracies.append(train_acc)\n",
        "    test_accuracies.append(test_acc)\n",
        "\n",
        "    print(f'Epoch [{epoch+1}/{num_epochs}], Train Loss: {train_loss:.4f}, Train Acc: {train_acc:.2f}%, Test Loss: {test_loss:.4f}, Test Acc: {test_acc:.2f}%')\n"
      ],
      "metadata": {
        "id": "NZ46aLVWbElq"
      },
      "execution_count": null,
      "outputs": []
    },
    {
      "cell_type": "code",
      "source": [
        "# Plot results\n",
        "plt.figure(figsize=(12, 4))\n",
        "plt.subplot(1, 2, 1)\n",
        "plt.plot(range(1, num_epochs+1), train_losses, label='Train Loss')\n",
        "plt.plot(range(1, num_epochs+1), test_losses, label='Test Loss')\n",
        "plt.xlabel('Epochs')\n",
        "plt.ylabel('Loss')\n",
        "plt.legend()\n",
        "plt.title('Training and Test Loss')\n",
        "\n",
        "plt.subplot(1, 2, 2)\n",
        "plt.plot(range(1, num_epochs+1), train_accuracies, label='Train Accuracy')\n",
        "plt.plot(range(1, num_epochs+1), test_accuracies, label='Test Accuracy')\n",
        "plt.xlabel('Epochs')\n",
        "plt.ylabel('Accuracy (%)')\n",
        "plt.legend()\n",
        "plt.title('Training and Test Accuracy')\n",
        "\n",
        "plt.show()\n"
      ],
      "metadata": {
        "id": "iZCuz4iGbMQC"
      },
      "execution_count": null,
      "outputs": []
    }
  ]
}